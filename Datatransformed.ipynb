{
 "cells": [
  {
   "cell_type": "code",
   "execution_count": 10,
   "metadata": {},
   "outputs": [],
   "source": [
    "# -*- coding: utf-8 -*-\n",
    "\"\"\"\n",
    "CreateNetworks.py\n",
    "\n",
    "This algorithm aggregates the temporally resolved network data\n",
    "default= 20min aggregation, by setting mins=1/3 we get 20sec resolution.\n",
    "\n",
    "Output: Tensor A20 for day 1, tensor B20 for day 2 along with the the times as vectors.\n",
    "\n",
    "@author: \n",
    "Yuki M. Asano\n",
    "edited by:Jacqueline\n",
    "\"\"\"\n",
    "import numpy as np\n",
    "def createnw(data,metadata,mins):\n",
    "    tt=-1\n",
    "    maxtime=int(np.ceil((data[-1,0] - data[0,0] )/(20*3*mins))) # 20min     \n",
    "    numIndividuals=len(metadata[:, 0])\n",
    "    startid=int(metadata[0][0])\n",
    "    A= np.zeros((numIndividuals,numIndividuals, maxtime+1),dtype=np.int32)\n",
    "    told=0  \n",
    "    \n",
    "    for row in range(len(data[:,0])):\n",
    "        t=data[row,0]\n",
    "        id1=int(np.argwhere(str(data[row,1])== metadata[:,0]))\n",
    "        id2=int(np.argwhere(str(data[row,2])== metadata[:,0]))\n",
    "        if (t>= (told+(20*3*mins))) and t!=told: \t#start new timeslot\n",
    "            tt+=1\n",
    "            told=t\n",
    "        if id1>id2:\t\t\t\t\t#fill lower triangular\n",
    "            A[id1][id2][tt]+=1\n",
    "        else:\n",
    "            A[id2][id1][tt]+=1\n",
    "    return A, range(tt)"
   ]
  },
  {
   "cell_type": "code",
   "execution_count": 11,
   "metadata": {},
   "outputs": [],
   "source": [
    "import pandas as pd\n",
    "\n",
    "df = pd.read_csv('primaryschool.csv', delimiter='\\t', header=None)\n",
    "\n",
    "data = np.array(df)\n",
    "#data=np.loadtxt('primaryschool.csv', delimiter='\\t')\n",
    "firstday=data[0:60623,:]\n",
    "secondday=data[60623:,:]\n",
    "metadata=np.loadtxt('metadata_primaryschool.txt', delimiter='\\t', dtype='S16')\n",
    "metadata = metadata.astype(str)\n",
    "\n",
    "no = len(metadata[:, 0])\n",
    "# create 20min aggregated data\n",
    "[A20,time] =createnw(firstday,metadata,1/3)\n",
    "[B20,time2] =createnw(secondday,metadata,1/3)\n",
    "\n",
    "# save data as numpy objects\n",
    "np.save('day1.npy', A20)\n",
    "np.save('day2.npy', B20)\n",
    "np.save('numbers.npy',no)\n",
    "np.save('times1.npy',time)\n",
    "np.save('times2.npy',time2)"
   ]
  }
 ],
 "metadata": {
  "kernelspec": {
   "display_name": "pytorch_ad",
   "language": "python",
   "name": "python3"
  },
  "language_info": {
   "codemirror_mode": {
    "name": "ipython",
    "version": 3
   },
   "file_extension": ".py",
   "mimetype": "text/x-python",
   "name": "python",
   "nbconvert_exporter": "python",
   "pygments_lexer": "ipython3",
   "version": "3.8.16"
  }
 },
 "nbformat": 4,
 "nbformat_minor": 2
}
