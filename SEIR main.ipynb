{
 "cells": [
  {
   "cell_type": "code",
   "execution_count": 9,
   "metadata": {},
   "outputs": [],
   "source": [
    "import matplotlib.pyplot as plt\n",
    "import numpy as np\n",
    "\n",
    "A=np.load('day1.npy')        # contact patterns day 1\n",
    "B=np.load('day2.npy')        # contact patterns day 2\n",
    "day1=np.load('times1.npy')   # time series vector day 1\n",
    "day2=np.load('times2.npy')   # time series vector day 2\n",
    "no=np.load('numbers.npy')    # number of individuals\n",
    "metadata=np.loadtxt('metadata_primaryschool.txt',delimiter='\\t',dtype='str')\n",
    "\n",
    "#  Transimission function -----------------------------------------------#\n",
    "def transmit(A_at_t,s,ias,isy,home):\n",
    "    for ij in np.argwhere(A_at_t!=0):\n",
    "        i=ij[0]\n",
    "        j=ij[1]\n",
    "\t# conditions\n",
    "        infectious1= (ias[i]!=0 or isy[i]!=0)and home[i]<=0 and homecl[i]<=0 \n",
    "        sus1= (s[i]==1 and homecl[i]<=0 )\n",
    "        infectious2=(ias[j]!=0 or isy[j]!=0)and home[j]<=0 and homecl[j]<=0 \n",
    "        sus2= (s[j]==1 and homecl[j]<=0)\n",
    "        if (infectious1 and sus2):                \n",
    "            rtemp=np.random.random()\n",
    "            if isy[i]!=0:\n",
    "                bina=rtemp > (1-beta)**A_at_t[i,j]\n",
    "            else:\n",
    "                bina=rtemp > (1-beta/2.)**A_at_t[i,j]\n",
    "            if bina==1:\n",
    "               # print 'pupil w/ ID', j, 'got exposed'\n",
    "                ex[j]=1*(np.random.normal()*mu*0.1 + mu)\n",
    "                arrival[j]=tt\n",
    "                s[j]=0   #now at exposed \n",
    "        if (infectious2 and sus1):\n",
    "            rtemp=np.random.random() # random number\n",
    "            if isy[j]!=0:\n",
    "                bina=rtemp > (1-beta)**A_at_t[i,j]\n",
    "            else:\n",
    "                bina=rtemp > (1-beta/2.)**A_at_t[i,j]\n",
    "            if bina==1:\n",
    "               # print 'pupil w/ ID', j, 'got exposed'\n",
    "                ex[i]=1*(np.random.normal()*mu*0.1 + mu)\n",
    "                arrival[i]=tt\n",
    "                #print (tt/72.)\n",
    "                s[i]=0   #now at exposed\n",
    "#  End of day removal of symtomatic function-----------------------------------#    \n",
    "def eod(grades,tt,isy,home,rec):            \n",
    "    new=np.setdiff1d(np.nonzero(isy)[0],np.nonzero(home)[0])\n",
    "    home[new]=isy[new]\n",
    "\n",
    "#  Time passage function ------------------------------------------------------#        \n",
    "def timepass(grades,gradesPrev,tt,ias,rec,ex,isy,home,s):\n",
    "\n",
    "    # infection of susceptibles by community\n",
    "    comminfec(s,ex)\n",
    "    \n",
    "    # those infected: time passes\n",
    "    ias[np.nonzero(ias)[0]]-=1.00000001\n",
    "    isy[np.nonzero(isy)[0]]-=1.00000001\n",
    "    # those at home: time passes\n",
    "    home[np.nonzero(home)[0]]-= 1.00000001\n",
    "    homecl[np.nonzero(homecl)[0]]-= 1.00000001\n",
    "    \n",
    "    # after recovery period they recover:\n",
    "    rec[ias<0]=1\n",
    "    rec[isy<0]=1\n",
    "\n",
    "    # save this recovery to the prevalence time-series\n",
    "    if any(isy<0):\n",
    "        for i in np.where(isy<0)[0]:\n",
    "            try:\n",
    "                grade=metadata[i, 1].astype('S1').astype('i1')  -1  \n",
    "            except:\n",
    "                grade=5 #teacher\n",
    "            gradesPrev[grade,tt:slots,batchno]=gradesPrev[grade,tt,batchno]-1        \n",
    "    if any(ias<0): \n",
    "        for i in np.where(ias<0)[0]:\n",
    "            try:\n",
    "                grade=metadata[i, 1].astype('S1').astype('i1')  -1\n",
    "            except:\n",
    "                grade=5  #teacher\n",
    "            gradesPrev[grade,tt:slots,batchno]=gradesPrev[grade,tt,batchno]-1\n",
    "    ias[ias<0]=0\n",
    "    isy[isy<0]=0    \n",
    "\n",
    "    #those exposed: pass time\n",
    "    ex[np.nonzero(ex)[0]]-=1.00000001\n",
    "\n",
    "    # after exposure: disease develops: either with or without symptoms\n",
    "    for i in np.argwhere(ex<0):\n",
    "        ran=np.random.random()\n",
    "        ias[i]=(ran<pa)* (np.random.normal()*gamma*0.1 + gamma)\n",
    "        isy[i]=(ran>pa)*(np.random.normal()*gamma*0.1 + gamma)\n",
    "        ex[i]=0\n",
    "        #note: matrix A and ias, isy are already sorted\n",
    "        # again, save this to prevalence time-series:\n",
    "        try:\n",
    "            grade=metadata[i, 1].astype('S1').astype('i1')[0]  -1\n",
    "            grades[grade,tt:slots]=grades[grade,tt]+1\n",
    "            gradesPrev[grade,tt:slots,batchno]=gradesPrev[grade,tt,batchno]+1\n",
    "        except:\n",
    "            # teacher\n",
    "            gradesPrev[5,tt:slots,batchno]=gradesPrev[5,tt,batchno]+1   \n",
    "#  Targeted grade closure intervention function ------------------------------------#\n",
    "#      ...is only executed if threshhold is exceeded        \n",
    "def targetedClosure(tt,gradesPrev,ias,isy,home,homecl,s,dates):       \n",
    "    grademax=np.argmax(gradesPrev[:,tt,batchno]) \n",
    "    cond1=(grademax!=5) and previousgrade[grademax]==0\n",
    "    if gradesPrev[grademax,tt,batchno] > threshhold and cond1:\n",
    "        dates.append(tt/72.0*60)\n",
    "        previousgrade[grademax]=1\n",
    "        for i in range(243):\n",
    "            try:\n",
    "                grade=metadata[i, 1].astype('S1').astype('i1') -1\n",
    "            except:\n",
    "                pass  ## teachers still go to school\n",
    "            if grade==grademax:\n",
    "                #s[i]=0; ias[i]=0; isy[i]=0; ex[i]=0\n",
    "                homecl[i]=clPeriod  \n",
    "\n",
    "#  Save info to vectors ------------------------------------------------------------#    \n",
    "def svinfo(t,s_time, ias_time, isy_time, rec_time,ex_time, s,ias,isy,rec,ex):\n",
    "\t## svinfo saves the current states \n",
    "    s_time[t]=(sum(s!=0))\n",
    "    ias_time[t]=(sum(ias!=0))\n",
    "    isy_time[t]=(sum(isy!=0))\n",
    "    rec_time[t]=(sum(rec!=0))\n",
    "    ex_time[t]=(sum(ex!=0))\n",
    "\n",
    "#  Community infection function -----------------------------------------------------#       \n",
    "def comminfec(s,ex):\n",
    "    new= np.random.rand(len(np.argwhere(s==1))) < beta_spon  # times dt\n",
    "    ex[np.argwhere(s==1)[new]]=1*(np.random.normal()*gamma*0.1 + gamma)    \n",
    "    s[np.argwhere(s==1)[new]]=0"
   ]
  },
  {
   "cell_type": "code",
   "execution_count": 10,
   "metadata": {},
   "outputs": [
    {
     "name": "stdout",
     "output_type": "stream",
     "text": [
      "warning\n"
     ]
    }
   ],
   "source": [
    "maxbatch=1 # how many simulations should be carried out\n",
    "\n",
    "# specify parameters\n",
    "maxdays=50;  noplot=0\n",
    "threshhold=3; clPeriod=24*3*4*60;\n",
    "slots=int(24*3*maxdays*60 +25*3*np.ceil(maxdays/7.)*60)\n",
    "gamma=60*24*3*4.\n",
    "mu=60*24*3*2.\n",
    "beta=20*3.5* 10**-4 ; beta_spon=20*2.8* 10**-9\n",
    "pa=1/3\n",
    "# Init batch info aggregating vectors\n",
    "epd=() # saves the simulations with AR>10%\n",
    "gradesPrev=np.zeros((6,slots,maxbatch),dtype=np.int32) # saves the prevalences\n",
    "total_cases_AR = 0\n",
    "for batchno in range(maxbatch):\n",
    "    tt=0\n",
    "    # Init vectors for new simulation:\n",
    "    s_time= np.zeros(slots,dtype=np.int32)\n",
    "    ias_time= np.zeros(slots,dtype=np.int32)\n",
    "    isy_time= np.zeros(slots,dtype=np.int32)\n",
    "    rec_time= np.zeros(slots,dtype=np.int32)\n",
    "    ex_time= np.zeros(slots,dtype=np.int32)\n",
    "    home=np.zeros((no),dtype=np.float64)\n",
    "    homecl=np.zeros((no),dtype=np.float64)\n",
    "    s=np.ones((no),dtype=np.int32)\n",
    "    ias=np.zeros((no),dtype=np.float64)\n",
    "    isy=np.zeros((no),dtype=np.float64)\n",
    "    ex=np.zeros((no),dtype=np.float64)\n",
    "    rec=np.zeros((no),dtype=np.int32)\n",
    "    previousgrade= np.zeros(5,dtype=np.int32)\n",
    "    arrival=np.zeros(242)        # saves arrival dates of infection\n",
    "    grades=np.zeros((6,slots),dtype=np.int32)        \n",
    "    dates=[]\t\t     # saves dates of grade closure\n",
    "\n",
    "    # Initially infect  one individual --------------------------------\\\n",
    "    tinder=np.random.randint(no, size=1)\t\t\t\t   #|\n",
    "    isy[tinder]=1*(np.random.normal()*gamma*0.1 + gamma)\t\t  \n",
    "    s[tinder]=0   # this individual is removed from S class            #|\n",
    "    # save this initially infected to gradesPrev time-series          \n",
    "    try:\t\t\t\t\t\t\t\t   #|\n",
    "        grade=metadata[tinder, 1].astype('S1').astype('i1')  -1        \n",
    "    except:\t\t\t\t\t\t\t\t   #|\t\n",
    "        grade=5 #teacher       \n",
    "    grades[grade,tt:slots]=grades[grade,tt]+1\n",
    "    gradesPrev[grade,tt:slots,batchno]=gradesPrev[grade,tt,batchno]+1  #|\n",
    "    # -----------------------------------------------------------------/\n",
    "\n",
    "    while (tt<maxdays*24*3*60): #main time-loop\n",
    "        if not any(gradesPrev[:,tt,batchno]) and all(ex==0):\n",
    "            #no one sick and no one exposed, end simulation\n",
    "            break\n",
    "        else:\n",
    "            if np.mod(tt+24*3*2*60,24*3*7*60)==0:    #weekend \n",
    "                for t in range (72*60+72*60):\n",
    "                    timepass(grades,gradesPrev,tt,ias,rec,ex,isy,home,s)\n",
    "                    svinfo(tt,s_time, ias_time, isy_time, rec_time,ex_time, s,ias,isy,rec,ex)\n",
    "                    tt+=1\n",
    "                eod(grades,tt,isy,home,rec)\n",
    "            for t in day1:\n",
    "                transmit(A[:,:,t],s, ias,isy,home)\n",
    "                timepass(grades,gradesPrev,tt,ias,rec,ex,isy,home,s)\n",
    "                # targetedClosure(tt,gradesPrev,ias,isy,home,homecl,s,dates)\n",
    "                svinfo(tt,s_time, ias_time, isy_time, rec_time,ex_time, s,ias,isy,rec,ex)\n",
    "                tt+=1                     \n",
    "            for t in range (72*60-A.shape[2]): #A has 25 20min slots\n",
    "                timepass(grades,gradesPrev,tt,ias,rec,ex,isy,home,s)\n",
    "                svinfo(tt,s_time, ias_time, isy_time, rec_time,ex_time, s,ias,isy,rec,ex)\n",
    "                tt+=1\n",
    "            eod(grades,tt,isy,home,rec)\n",
    "            if np.mod(tt+24*3*4*60,24*3*7*60)==0:    #wednesday\n",
    "                for t in range (72*60):\n",
    "                    timepass(grades,gradesPrev,tt,ias,rec,ex,isy,home,s)\n",
    "                    svinfo(tt,s_time, ias_time, isy_time, rec_time,ex_time, s,ias,isy,rec,ex)\n",
    "                    tt+=1\n",
    "                eod(grades,tt,isy,home,rec)\n",
    "            if np.mod(tt+24*3*2*60,24*3*7*60)==0:    #weekend \n",
    "                for t in range (72*60+72*60): \n",
    "                    timepass(grades,gradesPrev,tt,ias,rec,ex,isy,home,s)\n",
    "                    svinfo(tt,s_time, ias_time, isy_time, rec_time,ex_time, s,ias,isy,rec,ex)\n",
    "                    tt+=1 \n",
    "                eod(grades,tt,isy,home,rec)\n",
    "            for t in day2:\n",
    "                transmit(B[:,:,t],s, ias,isy,home)\n",
    "                timepass(grades,gradesPrev,tt,ias,rec,ex,isy,home,s)\n",
    "                #  targetedClosure(tt,gradesPrev,ias,isy,home,homecl,s,dates)\n",
    "                svinfo(tt,s_time, ias_time, isy_time, rec_time,ex_time, s,ias,isy,rec,ex)\n",
    "                tt+=1       \n",
    "            for t in range (72*60-B.shape[2]): #B has 25 20min slots\n",
    "                timepass(grades,gradesPrev,tt,ias,rec,ex,isy,home,s)\n",
    "                svinfo(tt,s_time, ias_time, isy_time, rec_time,ex_time, s,ias,isy,rec,ex)\n",
    "                tt+=1\n",
    "            eod(grades,tt,isy,home,rec)\n",
    "            if np.mod(tt+24*3*4*60,24*3*7*60)==0:    #wednesday\n",
    "                for t in range (72*60):\n",
    "                    timepass(grades,gradesPrev,tt,ias,rec,ex,isy,home,s)\n",
    "                    svinfo(tt,s_time, ias_time, isy_time, rec_time,ex_time, s,ias,isy,rec,ex)\n",
    "                    tt+=1\n",
    "                eod(grades,tt,isy,home,rec)\n",
    "    total_cases = np.max(np.sum(grades, axis=0), axis=0)\n",
    "    if total_cases > 242/10:\n",
    "        print('warning')\n",
    "        epd=epd+(batchno,)\n",
    "        total_cases_AR += total_cases\n",
    "    # graphics follow\n"
   ]
  },
  {
   "cell_type": "code",
   "execution_count": 8,
   "metadata": {},
   "outputs": [
    {
     "data": {
      "text/plain": [
       "(243, 243, 1555)"
      ]
     },
     "execution_count": 8,
     "metadata": {},
     "output_type": "execute_result"
    }
   ],
   "source": [
    "A.shape"
   ]
  },
  {
   "cell_type": "code",
   "execution_count": 11,
   "metadata": {},
   "outputs": [
    {
     "data": {
      "text/plain": [
       "(0,)"
      ]
     },
     "execution_count": 11,
     "metadata": {},
     "output_type": "execute_result"
    }
   ],
   "source": [
    "epd"
   ]
  },
  {
   "cell_type": "code",
   "execution_count": 136,
   "metadata": {},
   "outputs": [
    {
     "data": {
      "text/plain": [
       "48"
      ]
     },
     "execution_count": 136,
     "metadata": {},
     "output_type": "execute_result"
    }
   ],
   "source": [
    "len(epd)"
   ]
  },
  {
   "cell_type": "code",
   "execution_count": 15,
   "metadata": {},
   "outputs": [],
   "source": [
    "high_attack_stat = gradesPrev[:,:,epd]\n",
    "high_attack_stat = np.sum(high_attack_stat, axis=0)\n",
    "high_attack_stat_ave = np.median(high_attack_stat, axis=1)\n",
    "cases_num_day = high_attack_stat_ave[::72*60]"
   ]
  },
  {
   "cell_type": "code",
   "execution_count": 16,
   "metadata": {},
   "outputs": [
    {
     "data": {
      "text/plain": [
       "<Axes: >"
      ]
     },
     "execution_count": 16,
     "metadata": {},
     "output_type": "execute_result"
    },
    {
     "data": {
      "image/png": "[encoded data removed]",
      "text/plain": [
       "<Figure size 640x480 with 1 Axes>"
      ]
     },
     "metadata": {},
     "output_type": "display_data"
    }
   ],
   "source": [
    "import pandas as pd\n",
    "cases_num_day_series = pd.Series(cases_num_day)\n",
    "cases_num_day_series.plot()"
   ]
  }
 ],
 "metadata": {
  "kernelspec": {
   "display_name": "pytorch_new",
   "language": "python",
   "name": "python3"
  },
  "language_info": {
   "codemirror_mode": {
    "name": "ipython",
    "version": 3
   },
   "file_extension": ".py",
   "mimetype": "text/x-python",
   "name": "python",
   "nbconvert_exporter": "python",
   "pygments_lexer": "ipython3",
   "version": "3.8.16"
  }
 },
 "nbformat": 4,
 "nbformat_minor": 2
}
